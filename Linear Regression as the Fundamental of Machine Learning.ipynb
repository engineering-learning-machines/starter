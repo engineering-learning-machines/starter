{
 "cells": [
  {
   "cell_type": "code",
   "execution_count": 1,
   "metadata": {
    "collapsed": true
   },
   "outputs": [],
   "source": [
    "import numpy as np\n",
    "import matplotlib.pyplot as plt\n",
    "import pandas as pd"
   ]
  },
  {
   "cell_type": "code",
   "execution_count": 2,
   "metadata": {
    "collapsed": true
   },
   "outputs": [],
   "source": [
    "%matplotlib inline"
   ]
  },
  {
   "cell_type": "markdown",
   "metadata": {},
   "source": [
    "# Overview"
   ]
  },
  {
   "cell_type": "markdown",
   "metadata": {},
   "source": [
    "## Machine Learning Overview"
   ]
  },
  {
   "cell_type": "markdown",
   "metadata": {},
   "source": [
    "## Problem Definition"
   ]
  },
  {
   "cell_type": "markdown",
   "metadata": {},
   "source": []
  },
  {
   "cell_type": "markdown",
   "metadata": {},
   "source": [
    "# One-Dimensional Linear Regression Model"
   ]
  },
  {
   "cell_type": "markdown",
   "metadata": {},
   "source": [
    "## Generate Synthetic Data"
   ]
  },
  {
   "cell_type": "markdown",
   "metadata": {},
   "source": [
    "For this first example, we don't actually need to have a real data set. We will generate some noisy data so that we can also compare the final result derived from our model. In general we don't know anything about the data, besides the fact that it is a one-dimensional line. Let's start by writing down a simple equation:"
   ]
  },
  {
   "cell_type": "markdown",
   "metadata": {},
   "source": [
    "$$y = \\alpha x + \\beta$$"
   ]
  },
  {
   "cell_type": "markdown",
   "metadata": {},
   "source": [
    "In this equation, $x$ is the *independent variable*, $\\alpha$ is the slope of the line, and $\\beta$ is the vertical offset. Let's warm up by demonstrating these concepts."
   ]
  },
  {
   "cell_type": "markdown",
   "metadata": {},
   "source": [
    "First we generate regularly spaced values for the independent variable $x$ in some arbitrary interval, let's say $x \\in [-5, +5]$:"
   ]
  },
  {
   "cell_type": "code",
   "execution_count": 3,
   "metadata": {},
   "outputs": [
    {
     "name": "stdout",
     "output_type": "stream",
     "text": [
      "Sample count: 1000\n"
     ]
    }
   ],
   "source": [
    "# The third parameter, 0.01, defines the distance between consequtive points: 0, 0.01, 0.02, 0.03, etc.\n",
    "x_regularly_spaced = np.arange(-5, 5, 0.01)\n",
    "# How many sample do we have? This array is one dimension, so we need to take the first element of its shape:\n",
    "print('Sample count: {}'.format(x_regularly_spaced.shape[0]))"
   ]
  },
  {
   "cell_type": "markdown",
   "metadata": {},
   "source": [
    "Since there are too many points to easily visualize, we are going to show only every 50 values of the array:"
   ]
  },
  {
   "cell_type": "code",
   "execution_count": 4,
   "metadata": {
    "scrolled": true
   },
   "outputs": [
    {
     "data": {
      "image/png": "[encoded data removed]",
      "text/plain": [
       "<matplotlib.figure.Figure at 0x7f3f40cd0b38>"
      ]
     },
     "metadata": {},
     "output_type": "display_data"
    }
   ],
   "source": [
    "x_regularly_spaced_sample = x_regularly_spaced[::50]\n",
    "plt.figure().set_size_inches(16,1.5)\n",
    "plt.scatter(x_regularly_spaced_sample, np.zeros(x_regularly_spaced_sample.shape[0]), marker='x')\n",
    "plt.grid()\n",
    "_ = plt.title('Regular Spacing of the Independent Variable $x$')"
   ]
  },
  {
   "cell_type": "markdown",
   "metadata": {},
   "source": [
    "The next step is to introduce some *jitter*. We can easily do that by adding a random number to each value $x$. Note that it is important that the mean of the random distribution is 0. In this case we take a Gaussian distribution with mean 0 and standard deviation 0.01, so that it is on the order of the space between points:"
   ]
  },
  {
   "cell_type": "code",
   "execution_count": 5,
   "metadata": {
    "collapsed": true
   },
   "outputs": [],
   "source": [
    "x_noisy = x_regularly_spaced + np.random.normal(scale=0.15, size=x_regularly_spaced.shape[0])"
   ]
  },
  {
   "cell_type": "code",
   "execution_count": 6,
   "metadata": {},
   "outputs": [
    {
     "data": {
      "text/plain": [
       "array([-4.90800615, -5.36913449, -5.09462838, -4.86111621, -5.12626753,\n",
       "       -4.98375605, -4.6667622 , -4.99609183, -4.94172519, -4.68535336])"
      ]
     },
     "execution_count": 6,
     "metadata": {},
     "output_type": "execute_result"
    }
   ],
   "source": [
    "x_noisy[:10]"
   ]
  },
  {
   "cell_type": "code",
   "execution_count": 7,
   "metadata": {
    "scrolled": false
   },
   "outputs": [
    {
     "data": {
      "image/png": "[encoded data removed]",
      "text/plain": [
       "<matplotlib.figure.Figure at 0x7f3f40cd0668>"
      ]
     },
     "metadata": {},
     "output_type": "display_data"
    }
   ],
   "source": [
    "x_noisy_sample = x_noisy[::50]\n",
    "plt.figure().set_size_inches(16,1.5)\n",
    "plt.scatter(x_noisy_sample, np.zeros(x_noisy_sample.shape[0]), marker='x')\n",
    "plt.grid()\n",
    "_ = plt.title('Sample of the Independent Variable $x$')"
   ]
  },
  {
   "cell_type": "markdown",
   "metadata": {},
   "source": [
    "We can now choose the parameters that we are going to estimate later:"
   ]
  },
  {
   "cell_type": "markdown",
   "metadata": {},
   "source": [
    "$$\\alpha = 0.35 $$\n",
    "$$\\beta = -0.75 $$"
   ]
  },
  {
   "cell_type": "code",
   "execution_count": 8,
   "metadata": {
    "collapsed": true
   },
   "outputs": [],
   "source": [
    "data_alpha = 0.35\n",
    "data_beta = -0.75"
   ]
  },
  {
   "cell_type": "code",
   "execution_count": 9,
   "metadata": {
    "collapsed": true
   },
   "outputs": [],
   "source": [
    "y_regular = data_alpha * x_regularly_spaced + data_beta"
   ]
  },
  {
   "cell_type": "code",
   "execution_count": 10,
   "metadata": {},
   "outputs": [
    {
     "data": {
      "image/png": "[encoded data removed]",
      "text/plain": [
       "<matplotlib.figure.Figure at 0x7f3f3b347048>"
      ]
     },
     "metadata": {},
     "output_type": "display_data"
    }
   ],
   "source": [
    "plt.figure().set_size_inches(12,6)\n",
    "plt.scatter(x_regularly_spaced, y_regular, marker='+')\n",
    "plt.grid()\n",
    "_ = plt.title(\"Plot of the Idealized Data\")"
   ]
  },
  {
   "cell_type": "code",
   "execution_count": 11,
   "metadata": {},
   "outputs": [
    {
     "data": {
      "image/png": "[encoded data removed]",
      "text/plain": [
       "<matplotlib.figure.Figure at 0x7f3f3b36f2e8>"
      ]
     },
     "metadata": {},
     "output_type": "display_data"
    }
   ],
   "source": [
    "plt.figure().set_size_inches(12,6)\n",
    "plt.scatter(x_noisy, y_regular, marker='+')\n",
    "plt.grid()\n",
    "_ = plt.title(\"Plot of the Jittered Data\")"
   ]
  },
  {
   "cell_type": "markdown",
   "metadata": {},
   "source": [
    "We might want to plot the jittered data against the regular $y$ for some reason:"
   ]
  },
  {
   "cell_type": "markdown",
   "metadata": {},
   "source": [
    "The last step is to add some noise to the $y$ values:"
   ]
  },
  {
   "cell_type": "code",
   "execution_count": 12,
   "metadata": {
    "collapsed": true
   },
   "outputs": [],
   "source": [
    "y_noisy = y_regular + np.random.normal(scale=0.5, size=y_regular.shape[0])"
   ]
  },
  {
   "cell_type": "code",
   "execution_count": 13,
   "metadata": {
    "scrolled": false
   },
   "outputs": [
    {
     "data": {
      "image/png": "[encoded data removed]",
      "text/plain": [
       "<matplotlib.figure.Figure at 0x7f3f3b2984a8>"
      ]
     },
     "metadata": {},
     "output_type": "display_data"
    }
   ],
   "source": [
    "plt.figure().set_size_inches(12,6)\n",
    "plt.scatter(x_noisy, y_noisy, marker='+')\n",
    "plt.grid()\n",
    "_ = plt.title(\"Plot of the Synthetic Noisy Data\")"
   ]
  },
  {
   "cell_type": "markdown",
   "metadata": {},
   "source": [
    "## Training Objective"
   ]
  },
  {
   "cell_type": "markdown",
   "metadata": {},
   "source": [
    "In this arguably simplest form of machine learning, our goal is to build a *model* and estimate the parameters of this model. These parameters can be learned from the data and are *estimates* of the real parameters of the process that generated the data. Typically the process samples from an idealized mathematical probability distribution and we would like to estimate as best as we can the parameters of this probability distribution from a sample from it. In this case we have a model of a line $y = \\alpha x + \\beta$ and we would like to estimate its parameters $\\alpha$ and $\\beta$ as closely as we can given the noise in the data."
   ]
  },
  {
   "cell_type": "markdown",
   "metadata": {},
   "source": [
    "## Training Procedure"
   ]
  },
  {
   "cell_type": "markdown",
   "metadata": {},
   "source": [
    "The word *training* is more or less obvious in the context of training neural networks, but in machine learning it most often refers to some kind of iterative process that is used to adjust the parameters of the model so it fits the data the best. Since the process is iterative, we have to know if we are doing better or worse as we go on with the training. Therefore, we need to define some sort of a metric that tells us how well our model compares to the data. In most machine learning models, this is done by the so called *loss function*."
   ]
  },
  {
   "cell_type": "markdown",
   "metadata": {},
   "source": [
    "### Loss Function"
   ]
  },
  {
   "cell_type": "markdown",
   "metadata": {},
   "source": [
    "Every point of the training data gives us a tupe $(x, y)$ where $x$ is the independent variable and $y$ is the actual value returned by the function (model) that we are trying to approximate. If we call our model $m$ and our best estimate for the parameters $\\hat{\\alpha}$ and $\\hat{\\beta}$, then our model can be used to calculate $\\tilde{y}$:"
   ]
  },
  {
   "cell_type": "markdown",
   "metadata": {},
   "source": [
    "Our Model:"
   ]
  },
  {
   "cell_type": "markdown",
   "metadata": {},
   "source": [
    "$$ m(x) = \\hat{\\alpha} x + \\hat{\\beta} $$"
   ]
  },
  {
   "cell_type": "markdown",
   "metadata": {},
   "source": [
    "Calculated value by the model for input $x$:"
   ]
  },
  {
   "cell_type": "markdown",
   "metadata": {},
   "source": [
    "$$ \\tilde{y} = m(x)$$\n"
   ]
  },
  {
   "cell_type": "markdown",
   "metadata": {},
   "source": [
    "For the same $x$, the quadratic distance $l = \\left( y - \\tilde{y} \\right)^2 $ gives us a metric $l$ for how good our model is, dependent on the estimate for the parameters $\\hat{\\alpha}$ and $\\hat{\\beta}$. Since it is quadratic, $l = \\left(y-\\tilde{y}\\right)^2 = 0$ means that we have a perfect estimate, while the higher the value of $l$ is, the worse our model is."
   ]
  },
  {
   "cell_type": "markdown",
   "metadata": {},
   "source": [
    "Since a model means some sort of simplification or approximation of the real thing, we need to evaluate how well our model does on the whole data set. If we are to arrive at a single number, then we need to average the result over all $N$ data points as follows:"
   ]
  },
  {
   "cell_type": "markdown",
   "metadata": {},
   "source": [
    "$$\\bar{l} = \\frac{1}{N}\\sum_{n=1}^{N}{\\left( y - \\tilde{y} \\right)^2 } $$"
   ]
  },
  {
   "cell_type": "markdown",
   "metadata": {},
   "source": [
    "We can now use the average loss metric $\\bar{l}$ in our training procedure to test how well our model does, but we are not done yet."
   ]
  },
  {
   "cell_type": "markdown",
   "metadata": {},
   "source": [
    "The average loss $\\bar{l}$ is a simple number that will always be the same when the same model $m(x)$ is used. However, we might like to test different models $m(x) = \\hat{\\alpha} x + \\hat{\\beta}$ by fiddling with the parameters $\\hat{\\alpha}$ and $\\hat{\\beta}$. This means that for a fixed $x$, our model can be seen as a function of these parameters:"
   ]
  },
  {
   "cell_type": "markdown",
   "metadata": {},
   "source": [
    "$$ \\mathcal{M}(\\hat{\\alpha}, \\hat{\\beta}) = \\hat{\\alpha} x + \\hat{\\beta} $$"
   ]
  },
  {
   "cell_type": "markdown",
   "metadata": {},
   "source": [
    "For a **fixed data set** $(x, y)$ that has $N$ samples in it, now we can define a *loss function* $\\mathcal{L}$ that depends only on the parameters $\\hat{\\alpha}$ and $\\hat{\\beta}$ of the model:"
   ]
  },
  {
   "cell_type": "markdown",
   "metadata": {},
   "source": [
    "$$\\mathcal{L}(\\tilde{\\alpha}, \\tilde{\\beta}) = \\frac{1}{N}\\sum_{n=1}^{N}{\\left(y - \\tilde{y}\\right)^2} = \\frac{1}{N}\\sum_{n=1}^{N}{\\left(y - \\mathcal{M} \\right)^2} = \\frac{1}{N}\\sum_{n=1}^{N}{\\left(y - (\\hat{\\alpha} x + \\hat{\\beta}) \\right)^2}$$"
   ]
  },
  {
   "cell_type": "markdown",
   "metadata": {},
   "source": [
    "Note that this function is a mapping from $\\mathbb{R}^k -> \\mathbb{R}$ where $k$ is the dimensionality of the parameter space and thus defines some landscape in the **parameters space** spanned by the values of $\\hat{\\alpha}$ and $\\hat{\\beta}$. In this simple example, it will be a two-dimensional surface embedded in the three-dimensional space $(\\hat{\\alpha}$, $\\hat{\\beta}, \\tilde{y})$."
   ]
  },
  {
   "cell_type": "markdown",
   "metadata": {},
   "source": [
    "### Optimization by Gradient Descent"
   ]
  },
  {
   "cell_type": "markdown",
   "metadata": {},
   "source": [
    "We have mentioned that \"training\" refers to some sort of iterative procedure for improving the parameter estimates of a machine learning model. Now we are going to define the most popular way to do that for our linear model."
   ]
  },
  {
   "cell_type": "markdown",
   "metadata": {},
   "source": [
    "We already saw that the loss function $\\mathcal{L}$ lives in parameter space and defines a potentially complicated landscape if we imagine it being a surface embedded in three-dimensional space. Our job is to find the coordinates of the lowest point in that landscape. That will give us values for the best estimate of the parameters $\\hat{\\alpha}$ and $\\hat{\\beta}$ for which we get the lowest average loss $\\bar{l}$. Given our fixed data set, this is the best model that we can hope to find. Mathematically we can express this as follows:"
   ]
  },
  {
   "cell_type": "markdown",
   "metadata": {},
   "source": [
    "$$ \\underset{\\hat{\\alpha}, \\hat{\\beta}}{\\arg \\min \\mathcal{M}(\\hat{\\alpha}, \\hat{\\beta})} $$"
   ]
  },
  {
   "cell_type": "markdown",
   "metadata": {},
   "source": [
    "In general, the loss landscape is a very complicated multi-dimensional construct with a lot of local minima and maxima, so there is no guarantee that we can find the global minimum/maximum easily. Here, $\\mathcal{L}$ is a convex function, so we don't have to worry about this."
   ]
  },
  {
   "cell_type": "markdown",
   "metadata": {},
   "source": [
    "We have now reduced the problem of training a machine learning model to an optimization problem where we search a potentially large parameter space using the properties of the loss function $\\mathcal{L}$. The most naive approach would be to map out the loss landscape at random, however this becomes infeasible when the dimensionality increases significantly (neural networks have millions of parameters and therefore dimensions). It would be ideal if there is some sort of systematic exploration approach that guarantees that we can find our target. Indeed, there is such an approach, but unfortunately it does not guarantee that we will find the global minimum (in general). Still, this is our best, so let's investigate."
   ]
  },
  {
   "cell_type": "markdown",
   "metadata": {},
   "source": [
    "The first idea is to use the properties of the loss function $\\mathcal{L}$. Elementary calculus teaches us that the first derivative of a function expresses its rate of change. In additiona, the sign of the derivative determines if the function is increasing or decreasing (it is 0 at an optimum or a saddle point). In a higher-dimensional settings we can build all derivatives of a function with respect to all of its arguments. These derivatives can then be used to form a vector called \"gradient\". The gradient points in the direction of the largest increase/decrease of the function. We can thus move in that direction and in some sense this is the fastest route that we can take to arrive at the nearest local or global minimum. Now let's express this idea in a more mathematical way so we can later on implement this in code."
   ]
  },
  {
   "cell_type": "markdown",
   "metadata": {},
   "source": [
    "First, we build the derivatives of the loss function with respect to its parameters:"
   ]
  },
  {
   "cell_type": "markdown",
   "metadata": {},
   "source": [
    "$$ \\frac{\\partial \\mathcal{L}}{\\partial \\hat{\\alpha}} = \\frac{1}{N}\\sum_{n=1}^{N}{\\frac{\\partial}{\\partial \\hat{\\alpha}}\\left(y_n - (\\hat{\\alpha} x_n + \\hat{\\beta}) \\right)^2} = -\\frac{2}{N}\\sum_{n=1}^{N}{\\left(y_n - (\\hat{\\alpha} x_n + \\hat{\\beta}) \\right) \\frac{\\partial}{\\partial \\hat{\\alpha}}} \\left(\\hat{\\alpha} x_n + \\hat{\\beta} \\right) = -\\frac{2}{N}\\sum_{n=1}^{N} {\\left(y_n-\\hat{y}_n\\right)} x_n $$"
   ]
  },
  {
   "cell_type": "markdown",
   "metadata": {},
   "source": [
    "$$ \\frac{\\partial \\mathcal{L}}{\\partial \\hat{\\beta}} = \\frac{1}{N}\\sum_{n=1}^{N}{\\frac{\\partial}{\\partial \\hat{\\beta}}\\left(y_n - (\\hat{\\alpha} x_n + \\hat{\\beta}) \\right)^2} = -\\frac{2}{N}\\sum_{n=1}^{N}{\\left(y_n - (\\hat{\\alpha} x_n + \\hat{\\beta}) \\right) \\frac{\\partial}{\\partial \\hat{\\beta}}} \\left(\\hat{\\alpha} x_n + \\hat{\\beta} \\right) = -\\frac{2}{N}\\sum_{n=1}^{N} {\\left(y_n-\\hat{y}_n\\right)} $$"
   ]
  },
  {
   "cell_type": "markdown",
   "metadata": {},
   "source": [
    "The gradient is now simply the vector:"
   ]
  },
  {
   "cell_type": "markdown",
   "metadata": {},
   "source": [
    "$$ \\nabla \\mathcal{L} = \\left( \\frac{\\partial \\mathcal{L}}{\\partial \\hat{\\alpha}}, \\frac{\\partial \\mathcal{L}}{\\hat{\\beta}} \\right) $$"
   ]
  },
  {
   "cell_type": "markdown",
   "metadata": {},
   "source": [
    "The second idea is to use the gradient in order to update the parameters of the model. If we summarize all parameters of the models in a vector $\\theta = \\left(\\hat{\\alpha}, \\hat{\\beta}\\right)$, then we can use the following rule to execute the update:"
   ]
  },
  {
   "cell_type": "markdown",
   "metadata": {},
   "source": [
    "$$ \\theta_{i+1} = \\theta_{i} + r \\nabla \\mathcal{L} $$"
   ]
  },
  {
   "cell_type": "markdown",
   "metadata": {},
   "source": [
    "where the index $i$ represents the current time step $i$ and $r$ is a hyperparameter (freely chosen) called *learning rate*. The learning rate has an important role in determining how fast and how well the training process progresses. We are going to illustrate some of its properties later on. "
   ]
  },
  {
   "cell_type": "markdown",
   "metadata": {},
   "source": [
    "### Stochastic Gradient Descent"
   ]
  },
  {
   "cell_type": "markdown",
   "metadata": {},
   "source": [
    "As we discussed previously, the training method that we use is iterative, i.e. it progresses gradually and doesn't need all of the available data at once for the required calculations. Now we need to think carefully how to design this process."
   ]
  },
  {
   "cell_type": "markdown",
   "metadata": {},
   "source": [
    "The first question is how do we exactly improve the model? We already know the update rule that changes the model parameters, but when should we apply it? Obviosly we can either apply it after evaluating every single data point or after processing the full data set, or somewhere in between. In the first case, we simply do not have enough data (from a single data point) to asses the average behaviour of the model - remember that our metric is the *average* loss $\\bar{l}$ and our objective is to *approximate* the real data function/model as much as possible. On the other extreme, processing the full data set and then applying the update rule might not be feasible when dealing with very complex models and data set - in this case the learning is going to be extremely slow. Therefore, we need to take *some* of the data, update the model, then take some more data, and so on until the algorithm converges."
   ]
  },
  {
   "cell_type": "markdown",
   "metadata": {},
   "source": [
    "This smaller data \"packet\" that we use during training is called a **batch**. The size of the batch is again a hyperparameter and is commonly chosen on the order of a few hundred data samples - typically 64, 128, 256, etc. Unfortunately, there are no hard rules, only heuristics based on experience."
   ]
  },
  {
   "cell_type": "markdown",
   "metadata": {},
   "source": [
    "The second question is how to chose the elements of a batch from the available data set. One approach is to simply partition off the data set into batches of equal size and then iterate over them. In some cases this might represent a problem, since successive data points might be correlated in time. To break these, the data points in each batch can be chosen randomly from the full data set. When combined with a gradient descent optimization, this approach is called **stochastic** gradient descent."
   ]
  },
  {
   "cell_type": "markdown",
   "metadata": {},
   "source": [
    "## Summary of Training Procedure"
   ]
  },
  {
   "cell_type": "markdown",
   "metadata": {},
   "source": [
    "Now we can summarize our training procedure as follows:"
   ]
  },
  {
   "cell_type": "markdown",
   "metadata": {},
   "source": [
    "1. We create an index of the training data (implementation detail)\n",
    "2. We shuffle the index (implementation detail)\n",
    "3. We partition the index into batches of size K\n",
    "4. We iterate over each batch defined by the partitioned index:\n",
    "    1. We check if the convergence criteria are satisfied:\n",
    "        1. If yes, then we finish the training process\n",
    "        2. If no, we proceed with the next step\n",
    "    2. We calculate the gradient of the loss function using the whole batch as a fixed data set\n",
    "    3. We update the parameters of the model\n",
    "    4. Move on to the next batch"
   ]
  },
  {
   "cell_type": "markdown",
   "metadata": {},
   "source": [
    "### About Training Epochs"
   ]
  },
  {
   "cell_type": "markdown",
   "metadata": {},
   "source": [
    "With more complicated networks, a single training run over all of the available data might not be enough. In this case we might repeat the training procedure several times using the same data (albeit shuffled in a different way every time). Usually at the end of the epoch we evaluate the model with testing data which we are going to describe next."
   ]
  },
  {
   "cell_type": "markdown",
   "metadata": {},
   "source": [
    "### Training Data, Testing Data, Validation Data"
   ]
  },
  {
   "cell_type": "markdown",
   "metadata": {},
   "source": [
    "We now understand how to train the model. What is missing, however, is an evaluation of its \"quality\". In order to recognize problems like overfitting, we do not use all of the available data to train the model. Instead, we withold some of it for evaluation purposes. Since the model has never \"seen\" this data, we can use it to evaluate its performance in a much better way. Usually we split in training/testing data roughly in a 80:20 ratio (again, rule of thumb), but in some cases we might even split the unseen data further into a *test data set* and a *validation* data set that is used in a procedure called *cross validation*. Cross validation in general is not a concern for deep learning due to the availability of large volumes of data, but is very useful for other machine learning models on smaller data sets. (We have an example on that - link)"
   ]
  },
  {
   "cell_type": "markdown",
   "metadata": {},
   "source": [
    "| Data Set| Function|\n",
    "| :- |:-|\n",
    "| Training Data Set | Adjust the model parameters (learning) |\n",
    "| Testing Data Set | Evaluate how well the model does on unseen data |\n",
    "| Validation Data Set | Use for cross-validation |"
   ]
  },
  {
   "cell_type": "markdown",
   "metadata": {},
   "source": [
    "## Implementation"
   ]
  },
  {
   "cell_type": "markdown",
   "metadata": {},
   "source": [
    "### Training / Test Data Split"
   ]
  },
  {
   "cell_type": "markdown",
   "metadata": {},
   "source": [
    "We are going to implement an 80/20 training/testing data split. For this purpose we first create an index of all data, afterwards we split it and we can handle the training and testing data independently from each other."
   ]
  },
  {
   "cell_type": "markdown",
   "metadata": {},
   "source": [
    "#### Data Index"
   ]
  },
  {
   "cell_type": "markdown",
   "metadata": {},
   "source": [
    "First we create an index of all the data. We shuffle it, so that we can sample easily by splitting it in two."
   ]
  },
  {
   "cell_type": "code",
   "execution_count": 14,
   "metadata": {
    "collapsed": true
   },
   "outputs": [],
   "source": [
    "# Create an index of all data\n",
    "data_index = np.arange(x_noisy.shape[0])"
   ]
  },
  {
   "cell_type": "code",
   "execution_count": 15,
   "metadata": {
    "collapsed": true
   },
   "outputs": [],
   "source": [
    "# Shuffle the index\n",
    "np.random.shuffle(data_index)"
   ]
  },
  {
   "cell_type": "code",
   "execution_count": 16,
   "metadata": {},
   "outputs": [
    {
     "name": "stdout",
     "output_type": "stream",
     "text": [
      "[ 65  23 256 542 162 749 837 589 547 401]\n"
     ]
    }
   ],
   "source": [
    "# We see that it is shuffled\n",
    "print(data_index[:10])"
   ]
  },
  {
   "cell_type": "markdown",
   "metadata": {},
   "source": [
    "#### Index Split"
   ]
  },
  {
   "cell_type": "code",
   "execution_count": 17,
   "metadata": {
    "collapsed": true
   },
   "outputs": [],
   "source": [
    "# Calculate where to split first\n",
    "split_boundary = int(0.8 * data_index.shape[0])\n",
    "# Split the data into training and testing data\n",
    "train_index = data_index[:split_boundary]\n",
    "test_index = data_index[split_boundary:]"
   ]
  },
  {
   "cell_type": "markdown",
   "metadata": {},
   "source": [
    "### Model Definition"
   ]
  },
  {
   "cell_type": "markdown",
   "metadata": {},
   "source": [
    "Our model is simple enough, but for implementation purposes we might to encapsulate it in a class, so we can reuse it more easily. There are two operations that we have to apply on the model, namely:\n",
    "\n",
    "1. Evaluation\n",
    "2. Parameter update\n",
    "\n",
    "To this end, it is better to save the parameters as member variables, as shown here:"
   ]
  },
  {
   "cell_type": "code",
   "execution_count": 18,
   "metadata": {
    "collapsed": true
   },
   "outputs": [],
   "source": [
    "class Model:\n",
    "    def __init__(self, alpha, beta):\n",
    "        \"\"\"\n",
    "        alpha - initial value for parameter alpha\n",
    "        beta - initial value for parameter beta\n",
    "        \"\"\"\n",
    "        self.params = np.array([alpha, beta])\n",
    "    \n",
    "    def evaluate(self, x):\n",
    "        \"\"\"\n",
    "        x - Data input. For this simple model it can be either a single value or an array.\n",
    "        return - Output given by the model (y hat)\n",
    "        \"\"\"\n",
    "        return self.params[0] * x + self.params[1]\n",
    "\n",
    "    def update(self, gradient, learning_rate):\n",
    "        self.params -= learning_rate * gradient"
   ]
  },
  {
   "cell_type": "markdown",
   "metadata": {},
   "source": [
    "### Loss Function Computation"
   ]
  },
  {
   "cell_type": "markdown",
   "metadata": {},
   "source": [
    "The loss function $\\mathcal {L}$ depends on the parameters of the model $\\hat{\\alpha}$ and $\\hat{\\beta}$, so we can simply use the model object to perform the following calculation:"
   ]
  },
  {
   "cell_type": "markdown",
   "metadata": {},
   "source": [
    "$$\\mathcal{L}(\\tilde{\\alpha}, \\tilde{\\beta}) =\\frac{1}{N}\\sum_{n=1}^{N}{\\left(y - (\\hat{\\alpha} x + \\hat{\\beta}) \\right)^2}$$"
   ]
  },
  {
   "cell_type": "code",
   "execution_count": 19,
   "metadata": {
    "collapsed": true
   },
   "outputs": [],
   "source": [
    "def calculate_loss(x, y, model):\n",
    "    square_sums = (y - model.evaluate(x))**2\n",
    "    n_inv = 1./x.shape[0]\n",
    "    return n_inv * square_sums.sum()"
   ]
  },
  {
   "cell_type": "markdown",
   "metadata": {},
   "source": [
    "### Gradient Computation"
   ]
  },
  {
   "cell_type": "markdown",
   "metadata": {},
   "source": [
    "Since the gradient is computed quite often, let's create a function to do that. Remember that both gradients share a common part:"
   ]
  },
  {
   "cell_type": "markdown",
   "metadata": {},
   "source": [
    "$$ -\\frac{2}{N}\\sum_{n=1}^{N} {\\left(y_n-\\hat{y}_n\\right)} $$"
   ]
  },
  {
   "cell_type": "markdown",
   "metadata": {},
   "source": [
    "We are going to reuse it in this function as follows:"
   ]
  },
  {
   "cell_type": "code",
   "execution_count": 20,
   "metadata": {
    "collapsed": true
   },
   "outputs": [],
   "source": [
    "def calculate_gradient(batch_x, batch_y, model):\n",
    "    \"\"\"\n",
    "    batch_x: The independent variables in the batch\n",
    "    batch_y: The output variables in the batch\n",
    "    model:   An object representing our model. It has a function called 'evaluate'\n",
    "    returns: Gradient vector as an array\n",
    "    \"\"\"\n",
    "    # Multiplication is cheaper than division. We calculate the coefficient before the sum in advance\n",
    "    n_inv_coeff = - 2./batch_x.shape[0]\n",
    "    # We try to use 'vectorized' operations on numpy arrays for higher efficiency\n",
    "    result_diff = (batch_y - model.evaluate(batch_x))\n",
    "    grad_alpha = n_inv_coeff * (result_diff * batch_x).sum()\n",
    "    grad_beta = n_inv_coeff * result_diff.sum()\n",
    "    # Return the gradient vector as an array\n",
    "    return np.array([grad_alpha, grad_beta])"
   ]
  },
  {
   "cell_type": "markdown",
   "metadata": {},
   "source": [
    "### Training Process"
   ]
  },
  {
   "cell_type": "markdown",
   "metadata": {},
   "source": [
    "Here we define the training procedure. Some important hyper parameters are defined in the beginning"
   ]
  },
  {
   "cell_type": "code",
   "execution_count": 21,
   "metadata": {
    "collapsed": true
   },
   "outputs": [],
   "source": [
    "def train(data_x, data_y, training_index, testing_index, batch_size, model, epoch_count, learning_rate):\n",
    "    # Use this array to save data about the training process\n",
    "    training_data = []\n",
    "    for epoch in range(epoch_count):\n",
    "        print('--- Epoch {0:0>2} ---'.format(epoch))\n",
    "        # We need to shuffle the training index at the start of each training epoch\n",
    "        np.random.shuffle(training_index)\n",
    "        # batch_number is the number of the batch, while batch_partition tells us where in the training_index\n",
    "        # this batch starts\n",
    "        for batch_number, batch_partition in enumerate(np.arange(training_index.shape[0])[::batch_size]):\n",
    "            # This gives us the indices of all data points for this batch in the training data array\n",
    "            batch_index = training_index[batch_partition:batch_partition+batch_size]\n",
    "            batch_x = data_x[batch_index]\n",
    "            batch_y = data_y[batch_index]\n",
    "            # Evaluate the model for the given input data\n",
    "            model_result = model.evaluate(batch_x)\n",
    "            # Calculate the average gradient\n",
    "            gradient = calculate_gradient(batch_x, batch_y, model)\n",
    "            # Update the model parameters\n",
    "            model.update(gradient, learning_rate)\n",
    "            # Evaluate on the testing data     \n",
    "            np.random.shuffle(testing_index)\n",
    "            test_x = data_x[testing_index]\n",
    "            test_y = data_y[testing_index]\n",
    "            test_loss = calculate_loss(test_x, test_y, model)\n",
    "            # Show the loss\n",
    "            # print(batch_number, test_loss)\n",
    "            training_data.append((batch_number, test_loss))\n",
    "    return np.array(training_data)\n"
   ]
  },
  {
   "cell_type": "markdown",
   "metadata": {},
   "source": [
    "### Main Function"
   ]
  },
  {
   "cell_type": "code",
   "execution_count": 22,
   "metadata": {
    "collapsed": true
   },
   "outputs": [],
   "source": [
    "def run_linear_regression(batch_size, epoch_count, learning_rate):\n",
    "    # Create the model\n",
    "    model = Model(np.random.random(), np.random.random())\n",
    "    # Train the model\n",
    "    training_data = train(x_noisy, y_noisy, train_index, test_index, batch_size, model, epoch_count, learning_rate)\n",
    "    # Plot the learning rate\n",
    "    t = np.arange(training_data.shape[0])\n",
    "    plt.plot(t, training_data[:,1])\n",
    "    plt.grid()\n",
    "    plt.title('Loss / Batch')\n",
    "    # We return the model, so we can do further plots\n",
    "    return model"
   ]
  },
  {
   "cell_type": "markdown",
   "metadata": {},
   "source": [
    "### Hyperparameter Investigation"
   ]
  },
  {
   "cell_type": "code",
   "execution_count": 23,
   "metadata": {
    "scrolled": false
   },
   "outputs": [
    {
     "name": "stdout",
     "output_type": "stream",
     "text": [
      "--- Epoch 00 ---\n",
      "--- Epoch 01 ---\n",
      "--- Epoch 02 ---\n",
      "--- Epoch 03 ---\n",
      "--- Epoch 04 ---\n",
      "--- Epoch 05 ---\n",
      "--- Epoch 06 ---\n",
      "--- Epoch 07 ---\n"
     ]
    },
    {
     "data": {
      "image/png": "[encoded data removed]",
      "text/plain": [
       "<matplotlib.figure.Figure at 0x7f3f3b208940>"
      ]
     },
     "metadata": {},
     "output_type": "display_data"
    }
   ],
   "source": [
    "model_01 = run_linear_regression(16, 8, 0.01)"
   ]
  },
  {
   "cell_type": "markdown",
   "metadata": {},
   "source": [
    "### Final Result Analysis"
   ]
  },
  {
   "cell_type": "markdown",
   "metadata": {},
   "source": [
    "First, let's prepare the 'target' that we are going to compare our model against:"
   ]
  },
  {
   "cell_type": "code",
   "execution_count": 24,
   "metadata": {
    "collapsed": true
   },
   "outputs": [],
   "source": [
    "# Original testing data\n",
    "test_x = x_noisy[test_index]\n",
    "test_y = y_noisy[test_index]\n",
    "# Input data for the comparison between the 'real' line and the model\n",
    "plot_x = np.arange(-5, 5, 0.1)\n",
    "target_y = data_alpha * plot_x + data_beta"
   ]
  },
  {
   "cell_type": "markdown",
   "metadata": {},
   "source": [
    "We are going to make several plot, so we need a function for that:"
   ]
  },
  {
   "cell_type": "code",
   "execution_count": 25,
   "metadata": {
    "collapsed": true
   },
   "outputs": [],
   "source": [
    "def plot_results(model, title):\n",
    "    plt.figure().set_size_inches(12,6)\n",
    "    legend_data = plt.scatter(test_x, test_y, marker='x', label='Test Data')\n",
    "    plt.grid()\n",
    "    # Plot the 'real' line\n",
    "    legend_target, = plt.plot(plot_x, target_y, color='black', label='Target')\n",
    "    # Plot the model or inferred line\n",
    "    legend_model, = plt.plot(plot_x, model.evaluate(plot_x), color='red', label='Model')\n",
    "    plt.legend([legend_data, legend_target, legend_model], ['Data', 'Target', 'Model'])\n",
    "    _ = plt.title(title)"
   ]
  },
  {
   "cell_type": "markdown",
   "metadata": {},
   "source": [
    "#### Very Good Fit"
   ]
  },
  {
   "cell_type": "markdown",
   "metadata": {},
   "source": [
    "The hyperparameter of this linear regression have been chosen so that the model converges very well. As we can see, the average loss for each batch reaches a minimum and doesn't improve further. Since we have introduced noise in the x and y data points artificially, the loss can not converge to 0."
   ]
  },
  {
   "cell_type": "code",
   "execution_count": 46,
   "metadata": {
    "scrolled": false
   },
   "outputs": [
    {
     "name": "stdout",
     "output_type": "stream",
     "text": [
      "--- Epoch 00 ---\n",
      "--- Epoch 01 ---\n",
      "--- Epoch 02 ---\n",
      "--- Epoch 03 ---\n",
      "--- Epoch 04 ---\n",
      "--- Epoch 05 ---\n",
      "--- Epoch 06 ---\n",
      "--- Epoch 07 ---\n",
      "--- Epoch 08 ---\n",
      "--- Epoch 09 ---\n"
     ]
    },
    {
     "data": {
      "image/png": "[encoded data removed]",
      "text/plain": [
       "<matplotlib.figure.Figure at 0x7f3f3b12c358>"
      ]
     },
     "metadata": {},
     "output_type": "display_data"
    }
   ],
   "source": [
    "model_good_fit = run_linear_regression(16, 10, 0.01)"
   ]
  },
  {
   "cell_type": "code",
   "execution_count": 27,
   "metadata": {},
   "outputs": [
    {
     "data": {
      "image/png": "[encoded data removed]",
      "text/plain": [
       "<matplotlib.figure.Figure at 0x7f3f40caaeb8>"
      ]
     },
     "metadata": {},
     "output_type": "display_data"
    }
   ],
   "source": [
    "plot_results(model_good_fit, 'Very Good Fit')"
   ]
  },
  {
   "cell_type": "markdown",
   "metadata": {},
   "source": [
    "#### Untrained"
   ]
  },
  {
   "cell_type": "markdown",
   "metadata": {},
   "source": [
    "Here we can see the effect of very little training. We train for one epoch only and we chose a large batch size, so that the model doesn't get a change to update its parameters much. Obviously, the model differs from the target significantly."
   ]
  },
  {
   "cell_type": "code",
   "execution_count": 47,
   "metadata": {},
   "outputs": [
    {
     "name": "stdout",
     "output_type": "stream",
     "text": [
      "--- Epoch 00 ---\n"
     ]
    },
    {
     "data": {
      "image/png": "[encoded data removed]",
      "text/plain": [
       "<matplotlib.figure.Figure at 0x7f3f3b2184a8>"
      ]
     },
     "metadata": {},
     "output_type": "display_data"
    }
   ],
   "source": [
    "model_untrained = run_linear_regression(64, 1, 0.01)"
   ]
  },
  {
   "cell_type": "code",
   "execution_count": 29,
   "metadata": {},
   "outputs": [
    {
     "data": {
      "image/png": "[encoded data removed]",
      "text/plain": [
       "<matplotlib.figure.Figure at 0x7f3f3b228438>"
      ]
     },
     "metadata": {},
     "output_type": "display_data"
    }
   ],
   "source": [
    "plot_results(model_untrained, 'Untrained Model')"
   ]
  },
  {
   "cell_type": "markdown",
   "metadata": {},
   "source": [
    "#### Learning Rate Too Large"
   ]
  },
  {
   "cell_type": "markdown",
   "metadata": {},
   "source": [
    "We can chose the learning rate either too large or too small. If it is small, the parameter search progresses very slowly, but smoothly, since there are not large jumps. If, on the other hand, we chose the learning rate too large, then we might 'jump over' some local minima and we might not be find the optimimum easily. In that case we need a more 'fine grained' learning rate to improve the training process"
   ]
  },
  {
   "cell_type": "code",
   "execution_count": 30,
   "metadata": {},
   "outputs": [
    {
     "name": "stdout",
     "output_type": "stream",
     "text": [
      "--- Epoch 00 ---\n",
      "--- Epoch 01 ---\n",
      "--- Epoch 02 ---\n",
      "--- Epoch 03 ---\n",
      "--- Epoch 04 ---\n",
      "--- Epoch 05 ---\n",
      "--- Epoch 06 ---\n",
      "--- Epoch 07 ---\n"
     ]
    },
    {
     "data": {
      "image/png": "[encoded data removed]",
      "text/plain": [
       "<matplotlib.figure.Figure at 0x7f3f3b1cafd0>"
      ]
     },
     "metadata": {},
     "output_type": "display_data"
    }
   ],
   "source": [
    "model_large_learning_rate = run_linear_regression(16, 8, 0.1)"
   ]
  },
  {
   "cell_type": "code",
   "execution_count": 31,
   "metadata": {},
   "outputs": [
    {
     "data": {
      "image/png": "[encoded data removed]",
      "text/plain": [
       "<matplotlib.figure.Figure at 0x7f3f3b11ba20>"
      ]
     },
     "metadata": {},
     "output_type": "display_data"
    }
   ],
   "source": [
    "plot_results(model_large_learning_rate, 'Large Learning Rate')"
   ]
  },
  {
   "cell_type": "markdown",
   "metadata": {},
   "source": [
    "# N-Dimensional Linear Regression Model"
   ]
  },
  {
   "cell_type": "code",
   "execution_count": 32,
   "metadata": {
    "collapsed": true
   },
   "outputs": [],
   "source": [
    "df = pd.read_csv('./data/kc_house_data.csv', index_col='id', )"
   ]
  },
  {
   "cell_type": "code",
   "execution_count": 33,
   "metadata": {
    "scrolled": true
   },
   "outputs": [
    {
     "data": {
      "text/plain": [
       "Index(['date', 'price', 'bedrooms', 'bathrooms', 'sqft_living', 'sqft_lot',\n",
       "       'floors', 'waterfront', 'view', 'condition', 'grade', 'sqft_above',\n",
       "       'sqft_basement', 'yr_built', 'yr_renovated', 'zipcode', 'lat', 'long',\n",
       "       'sqft_living15', 'sqft_lot15'],\n",
       "      dtype='object')"
      ]
     },
     "execution_count": 33,
     "metadata": {},
     "output_type": "execute_result"
    }
   ],
   "source": [
    "df.columns"
   ]
  },
  {
   "cell_type": "code",
   "execution_count": 34,
   "metadata": {},
   "outputs": [
    {
     "data": {
      "text/html": [
       "<div>\n",
       "<table border=\"1\" class=\"dataframe\">\n",
       "  <thead>\n",
       "    <tr style=\"text-align: right;\">\n",
       "      <th></th>\n",
       "      <th>date</th>\n",
       "      <th>price</th>\n",
       "      <th>bedrooms</th>\n",
       "      <th>bathrooms</th>\n",
       "      <th>sqft_living</th>\n",
       "      <th>sqft_lot</th>\n",
       "      <th>floors</th>\n",
       "      <th>waterfront</th>\n",
       "      <th>view</th>\n",
       "      <th>condition</th>\n",
       "      <th>grade</th>\n",
       "      <th>sqft_above</th>\n",
       "      <th>sqft_basement</th>\n",
       "      <th>yr_built</th>\n",
       "      <th>yr_renovated</th>\n",
       "      <th>zipcode</th>\n",
       "      <th>lat</th>\n",
       "      <th>long</th>\n",
       "      <th>sqft_living15</th>\n",
       "      <th>sqft_lot15</th>\n",
       "    </tr>\n",
       "    <tr>\n",
       "      <th>id</th>\n",
       "      <th></th>\n",
       "      <th></th>\n",
       "      <th></th>\n",
       "      <th></th>\n",
       "      <th></th>\n",
       "      <th></th>\n",
       "      <th></th>\n",
       "      <th></th>\n",
       "      <th></th>\n",
       "      <th></th>\n",
       "      <th></th>\n",
       "      <th></th>\n",
       "      <th></th>\n",
       "      <th></th>\n",
       "      <th></th>\n",
       "      <th></th>\n",
       "      <th></th>\n",
       "      <th></th>\n",
       "      <th></th>\n",
       "      <th></th>\n",
       "    </tr>\n",
       "  </thead>\n",
       "  <tbody>\n",
       "    <tr>\n",
       "      <th>7129300520</th>\n",
       "      <td>20141013T000000</td>\n",
       "      <td>221900.0</td>\n",
       "      <td>3</td>\n",
       "      <td>1.00</td>\n",
       "      <td>1180</td>\n",
       "      <td>5650</td>\n",
       "      <td>1.0</td>\n",
       "      <td>0</td>\n",
       "      <td>0</td>\n",
       "      <td>3</td>\n",
       "      <td>7</td>\n",
       "      <td>1180</td>\n",
       "      <td>0</td>\n",
       "      <td>1955</td>\n",
       "      <td>0</td>\n",
       "      <td>98178</td>\n",
       "      <td>47.5112</td>\n",
       "      <td>-122.257</td>\n",
       "      <td>1340</td>\n",
       "      <td>5650</td>\n",
       "    </tr>\n",
       "    <tr>\n",
       "      <th>6414100192</th>\n",
       "      <td>20141209T000000</td>\n",
       "      <td>538000.0</td>\n",
       "      <td>3</td>\n",
       "      <td>2.25</td>\n",
       "      <td>2570</td>\n",
       "      <td>7242</td>\n",
       "      <td>2.0</td>\n",
       "      <td>0</td>\n",
       "      <td>0</td>\n",
       "      <td>3</td>\n",
       "      <td>7</td>\n",
       "      <td>2170</td>\n",
       "      <td>400</td>\n",
       "      <td>1951</td>\n",
       "      <td>1991</td>\n",
       "      <td>98125</td>\n",
       "      <td>47.7210</td>\n",
       "      <td>-122.319</td>\n",
       "      <td>1690</td>\n",
       "      <td>7639</td>\n",
       "    </tr>\n",
       "    <tr>\n",
       "      <th>5631500400</th>\n",
       "      <td>20150225T000000</td>\n",
       "      <td>180000.0</td>\n",
       "      <td>2</td>\n",
       "      <td>1.00</td>\n",
       "      <td>770</td>\n",
       "      <td>10000</td>\n",
       "      <td>1.0</td>\n",
       "      <td>0</td>\n",
       "      <td>0</td>\n",
       "      <td>3</td>\n",
       "      <td>6</td>\n",
       "      <td>770</td>\n",
       "      <td>0</td>\n",
       "      <td>1933</td>\n",
       "      <td>0</td>\n",
       "      <td>98028</td>\n",
       "      <td>47.7379</td>\n",
       "      <td>-122.233</td>\n",
       "      <td>2720</td>\n",
       "      <td>8062</td>\n",
       "    </tr>\n",
       "    <tr>\n",
       "      <th>2487200875</th>\n",
       "      <td>20141209T000000</td>\n",
       "      <td>604000.0</td>\n",
       "      <td>4</td>\n",
       "      <td>3.00</td>\n",
       "      <td>1960</td>\n",
       "      <td>5000</td>\n",
       "      <td>1.0</td>\n",
       "      <td>0</td>\n",
       "      <td>0</td>\n",
       "      <td>5</td>\n",
       "      <td>7</td>\n",
       "      <td>1050</td>\n",
       "      <td>910</td>\n",
       "      <td>1965</td>\n",
       "      <td>0</td>\n",
       "      <td>98136</td>\n",
       "      <td>47.5208</td>\n",
       "      <td>-122.393</td>\n",
       "      <td>1360</td>\n",
       "      <td>5000</td>\n",
       "    </tr>\n",
       "    <tr>\n",
       "      <th>1954400510</th>\n",
       "      <td>20150218T000000</td>\n",
       "      <td>510000.0</td>\n",
       "      <td>3</td>\n",
       "      <td>2.00</td>\n",
       "      <td>1680</td>\n",
       "      <td>8080</td>\n",
       "      <td>1.0</td>\n",
       "      <td>0</td>\n",
       "      <td>0</td>\n",
       "      <td>3</td>\n",
       "      <td>8</td>\n",
       "      <td>1680</td>\n",
       "      <td>0</td>\n",
       "      <td>1987</td>\n",
       "      <td>0</td>\n",
       "      <td>98074</td>\n",
       "      <td>47.6168</td>\n",
       "      <td>-122.045</td>\n",
       "      <td>1800</td>\n",
       "      <td>7503</td>\n",
       "    </tr>\n",
       "    <tr>\n",
       "      <th>7237550310</th>\n",
       "      <td>20140512T000000</td>\n",
       "      <td>1225000.0</td>\n",
       "      <td>4</td>\n",
       "      <td>4.50</td>\n",
       "      <td>5420</td>\n",
       "      <td>101930</td>\n",
       "      <td>1.0</td>\n",
       "      <td>0</td>\n",
       "      <td>0</td>\n",
       "      <td>3</td>\n",
       "      <td>11</td>\n",
       "      <td>3890</td>\n",
       "      <td>1530</td>\n",
       "      <td>2001</td>\n",
       "      <td>0</td>\n",
       "      <td>98053</td>\n",
       "      <td>47.6561</td>\n",
       "      <td>-122.005</td>\n",
       "      <td>4760</td>\n",
       "      <td>101930</td>\n",
       "    </tr>\n",
       "    <tr>\n",
       "      <th>1321400060</th>\n",
       "      <td>20140627T000000</td>\n",
       "      <td>257500.0</td>\n",
       "      <td>3</td>\n",
       "      <td>2.25</td>\n",
       "      <td>1715</td>\n",
       "      <td>6819</td>\n",
       "      <td>2.0</td>\n",
       "      <td>0</td>\n",
       "      <td>0</td>\n",
       "      <td>3</td>\n",
       "      <td>7</td>\n",
       "      <td>1715</td>\n",
       "      <td>0</td>\n",
       "      <td>1995</td>\n",
       "      <td>0</td>\n",
       "      <td>98003</td>\n",
       "      <td>47.3097</td>\n",
       "      <td>-122.327</td>\n",
       "      <td>2238</td>\n",
       "      <td>6819</td>\n",
       "    </tr>\n",
       "    <tr>\n",
       "      <th>2008000270</th>\n",
       "      <td>20150115T000000</td>\n",
       "      <td>291850.0</td>\n",
       "      <td>3</td>\n",
       "      <td>1.50</td>\n",
       "      <td>1060</td>\n",
       "      <td>9711</td>\n",
       "      <td>1.0</td>\n",
       "      <td>0</td>\n",
       "      <td>0</td>\n",
       "      <td>3</td>\n",
       "      <td>7</td>\n",
       "      <td>1060</td>\n",
       "      <td>0</td>\n",
       "      <td>1963</td>\n",
       "      <td>0</td>\n",
       "      <td>98198</td>\n",
       "      <td>47.4095</td>\n",
       "      <td>-122.315</td>\n",
       "      <td>1650</td>\n",
       "      <td>9711</td>\n",
       "    </tr>\n",
       "    <tr>\n",
       "      <th>2414600126</th>\n",
       "      <td>20150415T000000</td>\n",
       "      <td>229500.0</td>\n",
       "      <td>3</td>\n",
       "      <td>1.00</td>\n",
       "      <td>1780</td>\n",
       "      <td>7470</td>\n",
       "      <td>1.0</td>\n",
       "      <td>0</td>\n",
       "      <td>0</td>\n",
       "      <td>3</td>\n",
       "      <td>7</td>\n",
       "      <td>1050</td>\n",
       "      <td>730</td>\n",
       "      <td>1960</td>\n",
       "      <td>0</td>\n",
       "      <td>98146</td>\n",
       "      <td>47.5123</td>\n",
       "      <td>-122.337</td>\n",
       "      <td>1780</td>\n",
       "      <td>8113</td>\n",
       "    </tr>\n",
       "    <tr>\n",
       "      <th>3793500160</th>\n",
       "      <td>20150312T000000</td>\n",
       "      <td>323000.0</td>\n",
       "      <td>3</td>\n",
       "      <td>2.50</td>\n",
       "      <td>1890</td>\n",
       "      <td>6560</td>\n",
       "      <td>2.0</td>\n",
       "      <td>0</td>\n",
       "      <td>0</td>\n",
       "      <td>3</td>\n",
       "      <td>7</td>\n",
       "      <td>1890</td>\n",
       "      <td>0</td>\n",
       "      <td>2003</td>\n",
       "      <td>0</td>\n",
       "      <td>98038</td>\n",
       "      <td>47.3684</td>\n",
       "      <td>-122.031</td>\n",
       "      <td>2390</td>\n",
       "      <td>7570</td>\n",
       "    </tr>\n",
       "    <tr>\n",
       "      <th>1736800520</th>\n",
       "      <td>20150403T000000</td>\n",
       "      <td>662500.0</td>\n",
       "      <td>3</td>\n",
       "      <td>2.50</td>\n",
       "      <td>3560</td>\n",
       "      <td>9796</td>\n",
       "      <td>1.0</td>\n",
       "      <td>0</td>\n",
       "      <td>0</td>\n",
       "      <td>3</td>\n",
       "      <td>8</td>\n",
       "      <td>1860</td>\n",
       "      <td>1700</td>\n",
       "      <td>1965</td>\n",
       "      <td>0</td>\n",
       "      <td>98007</td>\n",
       "      <td>47.6007</td>\n",
       "      <td>-122.145</td>\n",
       "      <td>2210</td>\n",
       "      <td>8925</td>\n",
       "    </tr>\n",
       "    <tr>\n",
       "      <th>9212900260</th>\n",
       "      <td>20140527T000000</td>\n",
       "      <td>468000.0</td>\n",
       "      <td>2</td>\n",
       "      <td>1.00</td>\n",
       "      <td>1160</td>\n",
       "      <td>6000</td>\n",
       "      <td>1.0</td>\n",
       "      <td>0</td>\n",
       "      <td>0</td>\n",
       "      <td>4</td>\n",
       "      <td>7</td>\n",
       "      <td>860</td>\n",
       "      <td>300</td>\n",
       "      <td>1942</td>\n",
       "      <td>0</td>\n",
       "      <td>98115</td>\n",
       "      <td>47.6900</td>\n",
       "      <td>-122.292</td>\n",
       "      <td>1330</td>\n",
       "      <td>6000</td>\n",
       "    </tr>\n",
       "    <tr>\n",
       "      <th>114101516</th>\n",
       "      <td>20140528T000000</td>\n",
       "      <td>310000.0</td>\n",
       "      <td>3</td>\n",
       "      <td>1.00</td>\n",
       "      <td>1430</td>\n",
       "      <td>19901</td>\n",
       "      <td>1.5</td>\n",
       "      <td>0</td>\n",
       "      <td>0</td>\n",
       "      <td>4</td>\n",
       "      <td>7</td>\n",
       "      <td>1430</td>\n",
       "      <td>0</td>\n",
       "      <td>1927</td>\n",
       "      <td>0</td>\n",
       "      <td>98028</td>\n",
       "      <td>47.7558</td>\n",
       "      <td>-122.229</td>\n",
       "      <td>1780</td>\n",
       "      <td>12697</td>\n",
       "    </tr>\n",
       "    <tr>\n",
       "      <th>6054650070</th>\n",
       "      <td>20141007T000000</td>\n",
       "      <td>400000.0</td>\n",
       "      <td>3</td>\n",
       "      <td>1.75</td>\n",
       "      <td>1370</td>\n",
       "      <td>9680</td>\n",
       "      <td>1.0</td>\n",
       "      <td>0</td>\n",
       "      <td>0</td>\n",
       "      <td>4</td>\n",
       "      <td>7</td>\n",
       "      <td>1370</td>\n",
       "      <td>0</td>\n",
       "      <td>1977</td>\n",
       "      <td>0</td>\n",
       "      <td>98074</td>\n",
       "      <td>47.6127</td>\n",
       "      <td>-122.045</td>\n",
       "      <td>1370</td>\n",
       "      <td>10208</td>\n",
       "    </tr>\n",
       "    <tr>\n",
       "      <th>1175000570</th>\n",
       "      <td>20150312T000000</td>\n",
       "      <td>530000.0</td>\n",
       "      <td>5</td>\n",
       "      <td>2.00</td>\n",
       "      <td>1810</td>\n",
       "      <td>4850</td>\n",
       "      <td>1.5</td>\n",
       "      <td>0</td>\n",
       "      <td>0</td>\n",
       "      <td>3</td>\n",
       "      <td>7</td>\n",
       "      <td>1810</td>\n",
       "      <td>0</td>\n",
       "      <td>1900</td>\n",
       "      <td>0</td>\n",
       "      <td>98107</td>\n",
       "      <td>47.6700</td>\n",
       "      <td>-122.394</td>\n",
       "      <td>1360</td>\n",
       "      <td>4850</td>\n",
       "    </tr>\n",
       "    <tr>\n",
       "      <th>9297300055</th>\n",
       "      <td>20150124T000000</td>\n",
       "      <td>650000.0</td>\n",
       "      <td>4</td>\n",
       "      <td>3.00</td>\n",
       "      <td>2950</td>\n",
       "      <td>5000</td>\n",
       "      <td>2.0</td>\n",
       "      <td>0</td>\n",
       "      <td>3</td>\n",
       "      <td>3</td>\n",
       "      <td>9</td>\n",
       "      <td>1980</td>\n",
       "      <td>970</td>\n",
       "      <td>1979</td>\n",
       "      <td>0</td>\n",
       "      <td>98126</td>\n",
       "      <td>47.5714</td>\n",
       "      <td>-122.375</td>\n",
       "      <td>2140</td>\n",
       "      <td>4000</td>\n",
       "    </tr>\n",
       "    <tr>\n",
       "      <th>1875500060</th>\n",
       "      <td>20140731T000000</td>\n",
       "      <td>395000.0</td>\n",
       "      <td>3</td>\n",
       "      <td>2.00</td>\n",
       "      <td>1890</td>\n",
       "      <td>14040</td>\n",
       "      <td>2.0</td>\n",
       "      <td>0</td>\n",
       "      <td>0</td>\n",
       "      <td>3</td>\n",
       "      <td>7</td>\n",
       "      <td>1890</td>\n",
       "      <td>0</td>\n",
       "      <td>1994</td>\n",
       "      <td>0</td>\n",
       "      <td>98019</td>\n",
       "      <td>47.7277</td>\n",
       "      <td>-121.962</td>\n",
       "      <td>1890</td>\n",
       "      <td>14018</td>\n",
       "    </tr>\n",
       "    <tr>\n",
       "      <th>6865200140</th>\n",
       "      <td>20140529T000000</td>\n",
       "      <td>485000.0</td>\n",
       "      <td>4</td>\n",
       "      <td>1.00</td>\n",
       "      <td>1600</td>\n",
       "      <td>4300</td>\n",
       "      <td>1.5</td>\n",
       "      <td>0</td>\n",
       "      <td>0</td>\n",
       "      <td>4</td>\n",
       "      <td>7</td>\n",
       "      <td>1600</td>\n",
       "      <td>0</td>\n",
       "      <td>1916</td>\n",
       "      <td>0</td>\n",
       "      <td>98103</td>\n",
       "      <td>47.6648</td>\n",
       "      <td>-122.343</td>\n",
       "      <td>1610</td>\n",
       "      <td>4300</td>\n",
       "    </tr>\n",
       "    <tr>\n",
       "      <th>16000397</th>\n",
       "      <td>20141205T000000</td>\n",
       "      <td>189000.0</td>\n",
       "      <td>2</td>\n",
       "      <td>1.00</td>\n",
       "      <td>1200</td>\n",
       "      <td>9850</td>\n",
       "      <td>1.0</td>\n",
       "      <td>0</td>\n",
       "      <td>0</td>\n",
       "      <td>4</td>\n",
       "      <td>7</td>\n",
       "      <td>1200</td>\n",
       "      <td>0</td>\n",
       "      <td>1921</td>\n",
       "      <td>0</td>\n",
       "      <td>98002</td>\n",
       "      <td>47.3089</td>\n",
       "      <td>-122.210</td>\n",
       "      <td>1060</td>\n",
       "      <td>5095</td>\n",
       "    </tr>\n",
       "    <tr>\n",
       "      <th>7983200060</th>\n",
       "      <td>20150424T000000</td>\n",
       "      <td>230000.0</td>\n",
       "      <td>3</td>\n",
       "      <td>1.00</td>\n",
       "      <td>1250</td>\n",
       "      <td>9774</td>\n",
       "      <td>1.0</td>\n",
       "      <td>0</td>\n",
       "      <td>0</td>\n",
       "      <td>4</td>\n",
       "      <td>7</td>\n",
       "      <td>1250</td>\n",
       "      <td>0</td>\n",
       "      <td>1969</td>\n",
       "      <td>0</td>\n",
       "      <td>98003</td>\n",
       "      <td>47.3343</td>\n",
       "      <td>-122.306</td>\n",
       "      <td>1280</td>\n",
       "      <td>8850</td>\n",
       "    </tr>\n",
       "  </tbody>\n",
       "</table>\n",
       "</div>"
      ],
      "text/plain": [
       "                       date      price  bedrooms  bathrooms  sqft_living  \\\n",
       "id                                                                         \n",
       "7129300520  20141013T000000   221900.0         3       1.00         1180   \n",
       "6414100192  20141209T000000   538000.0         3       2.25         2570   \n",
       "5631500400  20150225T000000   180000.0         2       1.00          770   \n",
       "2487200875  20141209T000000   604000.0         4       3.00         1960   \n",
       "1954400510  20150218T000000   510000.0         3       2.00         1680   \n",
       "7237550310  20140512T000000  1225000.0         4       4.50         5420   \n",
       "1321400060  20140627T000000   257500.0         3       2.25         1715   \n",
       "2008000270  20150115T000000   291850.0         3       1.50         1060   \n",
       "2414600126  20150415T000000   229500.0         3       1.00         1780   \n",
       "3793500160  20150312T000000   323000.0         3       2.50         1890   \n",
       "1736800520  20150403T000000   662500.0         3       2.50         3560   \n",
       "9212900260  20140527T000000   468000.0         2       1.00         1160   \n",
       "114101516   20140528T000000   310000.0         3       1.00         1430   \n",
       "6054650070  20141007T000000   400000.0         3       1.75         1370   \n",
       "1175000570  20150312T000000   530000.0         5       2.00         1810   \n",
       "9297300055  20150124T000000   650000.0         4       3.00         2950   \n",
       "1875500060  20140731T000000   395000.0         3       2.00         1890   \n",
       "6865200140  20140529T000000   485000.0         4       1.00         1600   \n",
       "16000397    20141205T000000   189000.0         2       1.00         1200   \n",
       "7983200060  20150424T000000   230000.0         3       1.00         1250   \n",
       "\n",
       "            sqft_lot  floors  waterfront  view  condition  grade  sqft_above  \\\n",
       "id                                                                             \n",
       "7129300520      5650     1.0           0     0          3      7        1180   \n",
       "6414100192      7242     2.0           0     0          3      7        2170   \n",
       "5631500400     10000     1.0           0     0          3      6         770   \n",
       "2487200875      5000     1.0           0     0          5      7        1050   \n",
       "1954400510      8080     1.0           0     0          3      8        1680   \n",
       "7237550310    101930     1.0           0     0          3     11        3890   \n",
       "1321400060      6819     2.0           0     0          3      7        1715   \n",
       "2008000270      9711     1.0           0     0          3      7        1060   \n",
       "2414600126      7470     1.0           0     0          3      7        1050   \n",
       "3793500160      6560     2.0           0     0          3      7        1890   \n",
       "1736800520      9796     1.0           0     0          3      8        1860   \n",
       "9212900260      6000     1.0           0     0          4      7         860   \n",
       "114101516      19901     1.5           0     0          4      7        1430   \n",
       "6054650070      9680     1.0           0     0          4      7        1370   \n",
       "1175000570      4850     1.5           0     0          3      7        1810   \n",
       "9297300055      5000     2.0           0     3          3      9        1980   \n",
       "1875500060     14040     2.0           0     0          3      7        1890   \n",
       "6865200140      4300     1.5           0     0          4      7        1600   \n",
       "16000397        9850     1.0           0     0          4      7        1200   \n",
       "7983200060      9774     1.0           0     0          4      7        1250   \n",
       "\n",
       "            sqft_basement  yr_built  yr_renovated  zipcode      lat     long  \\\n",
       "id                                                                             \n",
       "7129300520              0      1955             0    98178  47.5112 -122.257   \n",
       "6414100192            400      1951          1991    98125  47.7210 -122.319   \n",
       "5631500400              0      1933             0    98028  47.7379 -122.233   \n",
       "2487200875            910      1965             0    98136  47.5208 -122.393   \n",
       "1954400510              0      1987             0    98074  47.6168 -122.045   \n",
       "7237550310           1530      2001             0    98053  47.6561 -122.005   \n",
       "1321400060              0      1995             0    98003  47.3097 -122.327   \n",
       "2008000270              0      1963             0    98198  47.4095 -122.315   \n",
       "2414600126            730      1960             0    98146  47.5123 -122.337   \n",
       "3793500160              0      2003             0    98038  47.3684 -122.031   \n",
       "1736800520           1700      1965             0    98007  47.6007 -122.145   \n",
       "9212900260            300      1942             0    98115  47.6900 -122.292   \n",
       "114101516               0      1927             0    98028  47.7558 -122.229   \n",
       "6054650070              0      1977             0    98074  47.6127 -122.045   \n",
       "1175000570              0      1900             0    98107  47.6700 -122.394   \n",
       "9297300055            970      1979             0    98126  47.5714 -122.375   \n",
       "1875500060              0      1994             0    98019  47.7277 -121.962   \n",
       "6865200140              0      1916             0    98103  47.6648 -122.343   \n",
       "16000397                0      1921             0    98002  47.3089 -122.210   \n",
       "7983200060              0      1969             0    98003  47.3343 -122.306   \n",
       "\n",
       "            sqft_living15  sqft_lot15  \n",
       "id                                     \n",
       "7129300520           1340        5650  \n",
       "6414100192           1690        7639  \n",
       "5631500400           2720        8062  \n",
       "2487200875           1360        5000  \n",
       "1954400510           1800        7503  \n",
       "7237550310           4760      101930  \n",
       "1321400060           2238        6819  \n",
       "2008000270           1650        9711  \n",
       "2414600126           1780        8113  \n",
       "3793500160           2390        7570  \n",
       "1736800520           2210        8925  \n",
       "9212900260           1330        6000  \n",
       "114101516            1780       12697  \n",
       "6054650070           1370       10208  \n",
       "1175000570           1360        4850  \n",
       "9297300055           2140        4000  \n",
       "1875500060           1890       14018  \n",
       "6865200140           1610        4300  \n",
       "16000397             1060        5095  \n",
       "7983200060           1280        8850  "
      ]
     },
     "execution_count": 34,
     "metadata": {},
     "output_type": "execute_result"
    }
   ],
   "source": [
    "df[:20]"
   ]
  },
  {
   "cell_type": "code",
   "execution_count": 219,
   "metadata": {
    "collapsed": true
   },
   "outputs": [],
   "source": [
    "noncat_columns = ['price', 'sqft_living', 'sqft_lot', 'sqft_above' ]"
   ]
  },
  {
   "cell_type": "code",
   "execution_count": 220,
   "metadata": {
    "collapsed": true
   },
   "outputs": [],
   "source": [
    "house_data = df[noncat_columns]"
   ]
  },
  {
   "cell_type": "code",
   "execution_count": 221,
   "metadata": {},
   "outputs": [
    {
     "data": {
      "text/html": [
       "<div>\n",
       "<table border=\"1\" class=\"dataframe\">\n",
       "  <thead>\n",
       "    <tr style=\"text-align: right;\">\n",
       "      <th></th>\n",
       "      <th>price</th>\n",
       "      <th>sqft_living</th>\n",
       "      <th>sqft_lot</th>\n",
       "      <th>sqft_above</th>\n",
       "    </tr>\n",
       "    <tr>\n",
       "      <th>id</th>\n",
       "      <th></th>\n",
       "      <th></th>\n",
       "      <th></th>\n",
       "      <th></th>\n",
       "    </tr>\n",
       "  </thead>\n",
       "  <tbody>\n",
       "    <tr>\n",
       "      <th>7129300520</th>\n",
       "      <td>221900.0</td>\n",
       "      <td>1180</td>\n",
       "      <td>5650</td>\n",
       "      <td>1180</td>\n",
       "    </tr>\n",
       "    <tr>\n",
       "      <th>6414100192</th>\n",
       "      <td>538000.0</td>\n",
       "      <td>2570</td>\n",
       "      <td>7242</td>\n",
       "      <td>2170</td>\n",
       "    </tr>\n",
       "    <tr>\n",
       "      <th>5631500400</th>\n",
       "      <td>180000.0</td>\n",
       "      <td>770</td>\n",
       "      <td>10000</td>\n",
       "      <td>770</td>\n",
       "    </tr>\n",
       "    <tr>\n",
       "      <th>2487200875</th>\n",
       "      <td>604000.0</td>\n",
       "      <td>1960</td>\n",
       "      <td>5000</td>\n",
       "      <td>1050</td>\n",
       "    </tr>\n",
       "    <tr>\n",
       "      <th>1954400510</th>\n",
       "      <td>510000.0</td>\n",
       "      <td>1680</td>\n",
       "      <td>8080</td>\n",
       "      <td>1680</td>\n",
       "    </tr>\n",
       "    <tr>\n",
       "      <th>7237550310</th>\n",
       "      <td>1225000.0</td>\n",
       "      <td>5420</td>\n",
       "      <td>101930</td>\n",
       "      <td>3890</td>\n",
       "    </tr>\n",
       "    <tr>\n",
       "      <th>1321400060</th>\n",
       "      <td>257500.0</td>\n",
       "      <td>1715</td>\n",
       "      <td>6819</td>\n",
       "      <td>1715</td>\n",
       "    </tr>\n",
       "    <tr>\n",
       "      <th>2008000270</th>\n",
       "      <td>291850.0</td>\n",
       "      <td>1060</td>\n",
       "      <td>9711</td>\n",
       "      <td>1060</td>\n",
       "    </tr>\n",
       "    <tr>\n",
       "      <th>2414600126</th>\n",
       "      <td>229500.0</td>\n",
       "      <td>1780</td>\n",
       "      <td>7470</td>\n",
       "      <td>1050</td>\n",
       "    </tr>\n",
       "    <tr>\n",
       "      <th>3793500160</th>\n",
       "      <td>323000.0</td>\n",
       "      <td>1890</td>\n",
       "      <td>6560</td>\n",
       "      <td>1890</td>\n",
       "    </tr>\n",
       "    <tr>\n",
       "      <th>1736800520</th>\n",
       "      <td>662500.0</td>\n",
       "      <td>3560</td>\n",
       "      <td>9796</td>\n",
       "      <td>1860</td>\n",
       "    </tr>\n",
       "    <tr>\n",
       "      <th>9212900260</th>\n",
       "      <td>468000.0</td>\n",
       "      <td>1160</td>\n",
       "      <td>6000</td>\n",
       "      <td>860</td>\n",
       "    </tr>\n",
       "    <tr>\n",
       "      <th>114101516</th>\n",
       "      <td>310000.0</td>\n",
       "      <td>1430</td>\n",
       "      <td>19901</td>\n",
       "      <td>1430</td>\n",
       "    </tr>\n",
       "    <tr>\n",
       "      <th>6054650070</th>\n",
       "      <td>400000.0</td>\n",
       "      <td>1370</td>\n",
       "      <td>9680</td>\n",
       "      <td>1370</td>\n",
       "    </tr>\n",
       "    <tr>\n",
       "      <th>1175000570</th>\n",
       "      <td>530000.0</td>\n",
       "      <td>1810</td>\n",
       "      <td>4850</td>\n",
       "      <td>1810</td>\n",
       "    </tr>\n",
       "    <tr>\n",
       "      <th>9297300055</th>\n",
       "      <td>650000.0</td>\n",
       "      <td>2950</td>\n",
       "      <td>5000</td>\n",
       "      <td>1980</td>\n",
       "    </tr>\n",
       "    <tr>\n",
       "      <th>1875500060</th>\n",
       "      <td>395000.0</td>\n",
       "      <td>1890</td>\n",
       "      <td>14040</td>\n",
       "      <td>1890</td>\n",
       "    </tr>\n",
       "    <tr>\n",
       "      <th>6865200140</th>\n",
       "      <td>485000.0</td>\n",
       "      <td>1600</td>\n",
       "      <td>4300</td>\n",
       "      <td>1600</td>\n",
       "    </tr>\n",
       "    <tr>\n",
       "      <th>16000397</th>\n",
       "      <td>189000.0</td>\n",
       "      <td>1200</td>\n",
       "      <td>9850</td>\n",
       "      <td>1200</td>\n",
       "    </tr>\n",
       "    <tr>\n",
       "      <th>7983200060</th>\n",
       "      <td>230000.0</td>\n",
       "      <td>1250</td>\n",
       "      <td>9774</td>\n",
       "      <td>1250</td>\n",
       "    </tr>\n",
       "  </tbody>\n",
       "</table>\n",
       "</div>"
      ],
      "text/plain": [
       "                price  sqft_living  sqft_lot  sqft_above\n",
       "id                                                      \n",
       "7129300520   221900.0         1180      5650        1180\n",
       "6414100192   538000.0         2570      7242        2170\n",
       "5631500400   180000.0          770     10000         770\n",
       "2487200875   604000.0         1960      5000        1050\n",
       "1954400510   510000.0         1680      8080        1680\n",
       "7237550310  1225000.0         5420    101930        3890\n",
       "1321400060   257500.0         1715      6819        1715\n",
       "2008000270   291850.0         1060      9711        1060\n",
       "2414600126   229500.0         1780      7470        1050\n",
       "3793500160   323000.0         1890      6560        1890\n",
       "1736800520   662500.0         3560      9796        1860\n",
       "9212900260   468000.0         1160      6000         860\n",
       "114101516    310000.0         1430     19901        1430\n",
       "6054650070   400000.0         1370      9680        1370\n",
       "1175000570   530000.0         1810      4850        1810\n",
       "9297300055   650000.0         2950      5000        1980\n",
       "1875500060   395000.0         1890     14040        1890\n",
       "6865200140   485000.0         1600      4300        1600\n",
       "16000397     189000.0         1200      9850        1200\n",
       "7983200060   230000.0         1250      9774        1250"
      ]
     },
     "execution_count": 221,
     "metadata": {},
     "output_type": "execute_result"
    }
   ],
   "source": [
    "house_data[:20]"
   ]
  },
  {
   "cell_type": "code",
   "execution_count": 222,
   "metadata": {
    "collapsed": true
   },
   "outputs": [],
   "source": [
    "def scale_array(x):\n",
    "    from sklearn import preprocessing\n",
    "    min_max_scaler = preprocessing.MinMaxScaler(feature_range=(0, 1))\n",
    "    return min_max_scaler.fit_transform(x)"
   ]
  },
  {
   "cell_type": "code",
   "execution_count": 223,
   "metadata": {
    "collapsed": true
   },
   "outputs": [],
   "source": [
    "class MultilinearModel:\n",
    "    def __init__(self, initial_params):\n",
    "        \"\"\"\n",
    "        alpha - initial value for parameter alpha\n",
    "        beta - initial value for parameter beta\n",
    "        \"\"\"\n",
    "        self.params = initial_params\n",
    "    \n",
    "    def evaluate(self, x):\n",
    "        \"\"\"\n",
    "        x - Data input. For this simple model it can be either a single value or an array.\n",
    "        return - Output given by the model (y hat)\n",
    "        \"\"\"\n",
    "        # return self.params[0] * x + self.params[1]\n",
    "        return np.dot(x, self.params[:-1]) + self.params[-1]\n",
    "\n",
    "    def update(self, gradient, learning_rate):\n",
    "        self.params -= learning_rate * gradient"
   ]
  },
  {
   "cell_type": "code",
   "execution_count": 224,
   "metadata": {
    "collapsed": true
   },
   "outputs": [],
   "source": [
    "def calculate_multilinear_loss(x, y, model):\n",
    "    square_sums = (y - model.evaluate(x))**2\n",
    "    n_inv = 1./x.shape[0]\n",
    "    return n_inv * square_sums.sum()"
   ]
  },
  {
   "cell_type": "code",
   "execution_count": 225,
   "metadata": {
    "collapsed": true
   },
   "outputs": [],
   "source": [
    "def calculate_multilinear_gradient(batch_x, batch_y, model):\n",
    "    \"\"\"\n",
    "    batch_x: The independent variables in the batch\n",
    "    batch_y: The output variables in the batch\n",
    "    model:   An object representing our model. It has a function called 'evaluate'\n",
    "    returns: Gradient vector as an array\n",
    "    \"\"\"\n",
    "    # Multiplication is cheaper than division. We calculate the coefficient before the sum in advance\n",
    "    n_inv_coeff = - 2./batch_x.shape[0]\n",
    "    # We try to use 'vectorized' operations on numpy arrays for higher efficiency\n",
    "    # print(batch_y.shape, model.evaluate(batch_x).shape)\n",
    "    result_diff = (batch_y - model.evaluate(batch_x))\n",
    "    # Here we multiply the column vector result_diff with each column of the matrix batch_x, then\n",
    "    # we sum all column elements.\n",
    "    grad_weights = n_inv_coeff * np.tensordot(result_diff, batch_x, axes=1)\n",
    "    # The last parameter is the bias\n",
    "    grad_bias = n_inv_coeff * result_diff.sum()\n",
    "    # Return the gradient vector as an array\n",
    "    return np.append(grad_weights, grad_bias)"
   ]
  },
  {
   "cell_type": "code",
   "execution_count": 226,
   "metadata": {
    "collapsed": true
   },
   "outputs": [],
   "source": [
    "def multilinear_train(data_x, data_y, training_index, testing_index, batch_size, model, epoch_count, learning_rate):\n",
    "    # Use this array to save data about the training process\n",
    "    training_data = []\n",
    "    for epoch in range(epoch_count):\n",
    "        print('--- Epoch {0:0>2} ---'.format(epoch))\n",
    "        # We need to shuffle the training index at the start of each training epoch\n",
    "        np.random.shuffle(training_index)\n",
    "        # batch_number is the number of the batch, while batch_partition tells us where in the training_index\n",
    "        # this batch starts\n",
    "        for batch_number, batch_partition in enumerate(np.arange(training_index.shape[0])[::batch_size]):\n",
    "            # This gives us the indices of all data points for this batch in the training data array\n",
    "            batch_index = training_index[batch_partition:batch_partition+batch_size]\n",
    "            batch_x = data_x[batch_index]\n",
    "            batch_y = data_y[batch_index]\n",
    "            # Evaluate the model for the given input data\n",
    "            model_result = model.evaluate(batch_x)\n",
    "            # Calculate the average gradient\n",
    "            gradient = calculate_multilinear_gradient(batch_x, batch_y, model)\n",
    "            # Update the model parameters\n",
    "            model.update(gradient, learning_rate)\n",
    "            # Evaluate on the testing data     \n",
    "            np.random.shuffle(testing_index)\n",
    "            test_x = data_x[testing_index]\n",
    "            test_y = data_y[testing_index]\n",
    "            test_loss = calculate_multilinear_loss(test_x, test_y, model)\n",
    "            # Show the loss\n",
    "            # print(batch_number, test_loss)\n",
    "            training_data.append((batch_number, test_loss))\n",
    "        print('Loss: {}'.format(training_data[-1][1]))\n",
    "    return np.array(training_data)\n"
   ]
  },
  {
   "cell_type": "code",
   "execution_count": 234,
   "metadata": {
    "collapsed": true
   },
   "outputs": [],
   "source": [
    "def run_multilinear_regression(batch_size, epoch_count, learning_rate):\n",
    "    # Create the model\n",
    "    model = MultilinearModel(np.random.random(4))\n",
    "    # Extract only the columns we need as a numpy matrix (2D array)\n",
    "    data = df.as_matrix(columns=['price', 'sqft_living', 'sqft_lot','sqft_above'])\n",
    "    # Normalize the data in the range [0, 1]\n",
    "    data_normalized = scale_array(data)\n",
    "    # Split the data into input and result\n",
    "    house_data_x = data_normalized[:, 1:]\n",
    "    house_data_y = data_normalized[:, 0]\n",
    "    # Prepare the indices\n",
    "    house_index = np.arange(house_data_y.shape[0])\n",
    "    np.random.shuffle(house_index)\n",
    "    split_boundary = int(0.8 * house_index.shape[0])\n",
    "    train_index = house_index[:split_boundary]\n",
    "    test_index = house_index[split_boundary:]\n",
    "    # Train the model\n",
    "    training_data = multilinear_train(\n",
    "        house_data_x, house_data_y, train_index, test_index, batch_size, model, epoch_count, learning_rate\n",
    "    )\n",
    "    # Plot the learning rate\n",
    "    t = np.arange(training_data.shape[0])\n",
    "    plt.plot(t, training_data[:,1])\n",
    "    plt.grid()\n",
    "    plt.title('Loss / Batch')\n",
    "    # We return the model, so we can do further plots\n",
    "    return (model, house_data_x, house_data_y, test_index)"
   ]
  },
  {
   "cell_type": "code",
   "execution_count": 238,
   "metadata": {},
   "outputs": [
    {
     "name": "stdout",
     "output_type": "stream",
     "text": [
      "--- Epoch 00 ---\n",
      "Loss: 0.0021982380125392413\n"
     ]
    },
    {
     "data": {
      "image/png": "[encoded data removed]",
      "text/plain": [
       "<matplotlib.figure.Figure at 0x7f3f40d08198>"
      ]
     },
     "metadata": {},
     "output_type": "display_data"
    }
   ],
   "source": [
    "model_multilinear, house_data_x, house_data_y, house_test_index = run_multilinear_regression(32, 1, 0.01)"
   ]
  },
  {
   "cell_type": "code",
   "execution_count": 239,
   "metadata": {},
   "outputs": [
    {
     "data": {
      "text/plain": [
       "array([ 0.4189627 ,  0.80364301,  0.22591945, -0.03930523])"
      ]
     },
     "execution_count": 239,
     "metadata": {},
     "output_type": "execute_result"
    }
   ],
   "source": [
    "model_multilinear.params"
   ]
  },
  {
   "cell_type": "code",
   "execution_count": 266,
   "metadata": {
    "collapsed": true
   },
   "outputs": [],
   "source": [
    "def plot_multilinear_factor(factor_index, xlabel, ylabel, model, title):\n",
    "    # data_normalized = scale_array(df[['price', factor_name]].values)\n",
    "    # Plot the price as a function of the factor\n",
    "    # price = data_normalized[:,0]\n",
    "    # factor = data_normalized[:,1]\n",
    "    # Prepare the plot\n",
    "    plt.figure().set_size_inches(12,6)\n",
    "    plt.xlabel(xlabel)\n",
    "    plt.ylabel(ylabel)\n",
    "    legend_data = plt.scatter(house_data_x[:, factor_index], house_data_y, marker='x', label='Data')\n",
    "    plt.grid()\n",
    "    # Plot the model or inferred line\n",
    "    plot_x = np.arange(0, 1, 0.05)\n",
    "    slope, offset = model.params[factor_index], model.params[-1]\n",
    "    legend_model, = plt.plot(plot_x, plot_x * slope + offset, color='red', label='Model')\n",
    "    #plt.legend([legend_data, legend_target, legend_model], ['Data', 'Target', 'Model'])\n",
    "    _ = plt.title(title)"
   ]
  },
  {
   "cell_type": "code",
   "execution_count": 272,
   "metadata": {
    "scrolled": true
   },
   "outputs": [
    {
     "data": {
      "image/png": "[encoded data removed]",
      "text/plain": [
       "<matplotlib.figure.Figure at 0x7f3f323f59b0>"
      ]
     },
     "metadata": {},
     "output_type": "display_data"
    }
   ],
   "source": [
    "plot_multilinear_factor(\n",
    "    0, 'Living Space (normalized)', 'Price (normalized)', model_multilinear, 'Living Space / Price'\n",
    ")"
   ]
  },
  {
   "cell_type": "code",
   "execution_count": 273,
   "metadata": {},
   "outputs": [
    {
     "data": {
      "image/png": "[encoded data removed]",
      "text/plain": [
       "<matplotlib.figure.Figure at 0x7f3f3212b2e8>"
      ]
     },
     "metadata": {},
     "output_type": "display_data"
    }
   ],
   "source": [
    "plot_multilinear_factor(\n",
    "    1, 'Lot Space (normalized)', 'Price (normalized)', model_multilinear, 'Lot Space / Price'\n",
    ")"
   ]
  },
  {
   "cell_type": "code",
   "execution_count": 274,
   "metadata": {},
   "outputs": [
    {
     "data": {
      "image/png": "[encoded data removed]",
      "text/plain": [
       "<matplotlib.figure.Figure at 0x7f3f3b30f0f0>"
      ]
     },
     "metadata": {},
     "output_type": "display_data"
    }
   ],
   "source": [
    "plot_multilinear_factor(\n",
    "    2, 'Above Space (normalized)', 'Price (normalized)', model_multilinear, 'Above Space / Price'\n",
    ")"
   ]
  },
  {
   "cell_type": "markdown",
   "metadata": {},
   "source": [
    "# Polynomial Model"
   ]
  },
  {
   "cell_type": "markdown",
   "metadata": {},
   "source": [
    "# Logistic Regression Model"
   ]
  },
  {
   "cell_type": "code",
   "execution_count": null,
   "metadata": {
    "collapsed": true
   },
   "outputs": [],
   "source": []
  },
  {
   "cell_type": "markdown",
   "metadata": {},
   "source": [
    "Most interesting data (images, audio signals, etc.) can be represented as vectors in a high-dimensional space. As an example, each pixel value of an image is an element of a vector with a dimension that is equal to the number of pixels in an image. The MNIST database consists of greyscale images of 28 x 28 pixel size, so the whole image can be represented as a vector in 784-dimensional space where every element of the vector can take on values between 0 and 1. The euclidean distance between such vectors represents a very rough metric of how close they are to each other."
   ]
  },
  {
   "cell_type": "code",
   "execution_count": null,
   "metadata": {
    "collapsed": true
   },
   "outputs": [],
   "source": []
  }
 ],
 "metadata": {
  "kernelspec": {
   "display_name": "Python 3",
   "language": "python",
   "name": "python3"
  },
  "language_info": {
   "codemirror_mode": {
    "name": "ipython",
    "version": 3
   },
   "file_extension": ".py",
   "mimetype": "text/x-python",
   "name": "python",
   "nbconvert_exporter": "python",
   "pygments_lexer": "ipython3",
   "version": "3.5.2"
  }
 },
 "nbformat": 4,
 "nbformat_minor": 2
}
