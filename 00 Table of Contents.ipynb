{
 "cells": [
  {
   "cell_type": "markdown",
   "metadata": {},
   "source": [
    "# Practical Introduction to Reinforcement Learning\n",
    "## Basics of Probability and Statistics\n",
    "### Random Variables\n",
    "### Probability Distributions\n",
    "### Basics of Statistics (Sampling)\n",
    "#### Monte Carlo Method\n",
    "##### Example 1: Calculate Pi With Monte Carlo\n",
    "##### Example 2: Approximate a Probability Density with Monte Carlo\n",
    "### Markov Chains\n",
    "\n",
    "## Basics of Machine Learning\n",
    "### Example - Multilinear Regression\n",
    "#### Problem Description\n",
    "#### Data Preparation\n",
    "#### Loss Function\n",
    "#### Calculation of the Gradient of the Loss Function\n",
    "#### Gradient Descent Implementation\n",
    "##### Effect of Learn Rate\n",
    "#### Result Plot\n",
    "\n",
    "## Formal Definition of Reinforcement Learning\n",
    "### Markov Decision Processes\n",
    "### State-Value Function\n",
    "### Action-Value Function\n",
    "## Bellman Equations\n",
    "### Bellman Expectation Equations\n",
    "### Bellman Optimality Equations\n",
    "## Solution of the Bellman Equations by Dynamic Programming\n",
    "### Policy Iteration\n",
    "### Value Iteration\n",
    "## Model-Free Prediction\n",
    "### Monte Carlo Learning\n",
    "### Temporal-Difference Learning (TD)\n",
    "## Model-Free Control\n",
    "### Monte Carlo\n",
    "#### Epsilon Greedy\n",
    "### Temporal Difference\n",
    "## Value Function Approximation\n",
    "### Generic Parametrization\n",
    "### Some Examples\n",
    "### Gradient Descent (Incremental Methods)\n",
    "### Value Function Approximation Prediction\n",
    "### Value Function Approximation Control\n",
    "### Batch Methods\n",
    "## Policy Gradient\n",
    "### Policy Gradient Idea\n",
    "### Monte Carlo Policy Gradient\n",
    "### Actor Critic Policy Gradient"
   ]
  },
  {
   "cell_type": "code",
   "execution_count": null,
   "metadata": {
    "collapsed": true
   },
   "outputs": [],
   "source": []
  }
 ],
 "metadata": {
  "kernelspec": {
   "display_name": "Python 3",
   "language": "python",
   "name": "python3"
  },
  "language_info": {
   "codemirror_mode": {
    "name": "ipython",
    "version": 3
   },
   "file_extension": ".py",
   "mimetype": "text/x-python",
   "name": "python",
   "nbconvert_exporter": "python",
   "pygments_lexer": "ipython3",
   "version": "3.5.2"
  }
 },
 "nbformat": 4,
 "nbformat_minor": 2
}
